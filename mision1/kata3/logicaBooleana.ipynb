{
 "cells": [
  {
   "cell_type": "markdown",
   "metadata": {},
   "source": [
    "# Logica condicional\n",
    "#### Expresiones de prueba"
   ]
  },
  {
   "cell_type": "code",
   "execution_count": 20,
   "metadata": {},
   "outputs": [
    {
     "name": "stdout",
     "output_type": "stream",
     "text": [
      "Expresiones de prueba\n",
      "3 es mayor a 1, por lo tanto la expresion es verdadera\n",
      "93\n"
     ]
    }
   ],
   "source": [
    "# Practica 1\n",
    "print('Expresiones de prueba')\n",
    "\n",
    "a = 97\n",
    "b = 55\n",
    "\n",
    "if a < b: \n",
    "    print(b)\n",
    "\n",
    "# Escribir declaraciones if\n",
    "if 3 > 1:\n",
    "    print('3 es mayor a 1, por lo tanto la expresion es verdadera')\n",
    "\n",
    "# Practica 2\n",
    "a = 93\n",
    "b = 27\n",
    "if a >= b:\n",
    "    print(a)\n"
   ]
  },
  {
   "cell_type": "markdown",
   "metadata": {},
   "source": [
    "El ragmento anterior se escribe de la siguiente manera: <br>\n",
    "`A la letra 'a' le asigno el valor de 93. `<br>\n",
    "`A la letra 'b' le asigno el valor de 27`. <br>\n",
    "`SI a(93) es mayor o igual a b(27) entonces:` <br>\n",
    "`Muestra (print) el valor de a(93)`<br>"
   ]
  },
  {
   "cell_type": "code",
   "execution_count": 24,
   "metadata": {},
   "outputs": [
    {
     "name": "stdout",
     "output_type": "stream",
     "text": [
      "44\n",
      "93\n",
      "a es mayor o igual que b\n",
      "a es mayor que b\n"
     ]
    }
   ],
   "source": [
    "a = 24\n",
    "b = 44\n",
    "if a <= 0:\n",
    "    print(a)\n",
    "print(b)\n",
    "\n",
    "# tarbajando con if else\n",
    "a =  93\n",
    "b = 27\n",
    "if a >= b:\n",
    "    print(a)\n",
    "else:\n",
    "    print(b)\n",
    "\n",
    "# trabajando con elif\n",
    "# el programa ingresará una instrucción elif solo si la primera instrucción if es False\n",
    "\n",
    "a = 93\n",
    "b = 27\n",
    "if a >= b:\n",
    "    print(\"a es mayor o igual que b\")\n",
    "elif a == b:\n",
    "    print(\"a es igual que b\")\n",
    "\n",
    "# combiar declaraciones if, elif y else\n",
    "a = 93\n",
    "b = 27\n",
    "if a > b:\n",
    "    print('a es mayor que b')\n",
    "elif a < b:\n",
    "    print('a es menor que b')\n",
    "else:\n",
    "    print('a es igual que b')"
   ]
  },
  {
   "cell_type": "markdown",
   "metadata": {},
   "source": [
    "#### Trabajando con lógica condicional anidada"
   ]
  },
  {
   "cell_type": "code",
   "execution_count": 25,
   "metadata": {},
   "outputs": [
    {
     "name": "stdout",
     "output_type": "stream",
     "text": [
      "a es menor que b\n"
     ]
    }
   ],
   "source": [
    "a = 16\n",
    "b = 25\n",
    "c = 27\n",
    "\n",
    "if a > b:\n",
    "    if b > c:\n",
    "        print('a es mayor que b y b es mayor que c')\n",
    "    else:\n",
    "        print('a es mayor que b y menor que c')\n",
    "elif a == b:\n",
    "    print('a es igual que b')\n",
    "else:\n",
    "    print('a es menor que b')"
   ]
  },
  {
   "cell_type": "markdown",
   "metadata": {},
   "source": [
    "#### Operadores `and` y `or`"
   ]
  },
  {
   "cell_type": "code",
   "execution_count": 27,
   "metadata": {},
   "outputs": [
    {
     "name": "stdout",
     "output_type": "stream",
     "text": [
      "57\n"
     ]
    }
   ],
   "source": [
    "# operador or\n",
    "a = 23\n",
    "b = 34\n",
    "if a == 34 or b == 34:\n",
    "    print(a + b)\n",
    "\n",
    "# operador and\n",
    "a = 23\n",
    "b = 34\n",
    "if a == 34 and b == 34:\n",
    "    print(a + b)"
   ]
  },
  {
   "cell_type": "markdown",
   "metadata": {},
   "source": [
    "#### Ejercicio -Escribir declaraciones `if, else, y elif`\n",
    "Escribir una logica condicional que imprima una advertencia si un asteroide se hacerca demasiado rapido. <br>\n",
    "La velocidad del asteroide varia dependiendo de lo cerca que este del sol, y cualquier velocidad superior a 25 kilometros (Km/s) merece una advertencia. <br><br>\n",
    "Un asteroide se acerca y viaja a una velocidad de 49km/s."
   ]
  },
  {
   "cell_type": "code",
   "execution_count": 1,
   "metadata": {},
   "outputs": [
    {
     "name": "stdout",
     "output_type": "stream",
     "text": [
      "⚠ Advertecia ⚠: Asteroide se acerca a tierra...\n"
     ]
    }
   ],
   "source": [
    "# Añadir el código necesario para crear una variable que guarde la velocidad del asteroide.\n",
    "velocidadAsteroide = 49\n",
    "velocidadSuperior = 25\n",
    "\n",
    "# Escribe una expresión de prueba para calcular si necesita una advertencia.\n",
    "if velocidadAsteroide < velocidadSuperior:\n",
    "    # Agregue las instrucciones que se ejecutarán si la expresión de prueba es false.\n",
    "    print('Tripulación a salvo!, asteoride esquivado')\n",
    "else:\n",
    "    # Agregue las instrucciones que se ejecutarán si la expresión de prueba es true.\n",
    "    print('⚠ Advertecia ⚠: Asteroide se acerca a tierra...')\n"
   ]
  },
  {
   "cell_type": "markdown",
   "metadata": {},
   "source": [
    "#### Solucion problema No. 1"
   ]
  },
  {
   "cell_type": "code",
   "execution_count": 11,
   "metadata": {},
   "outputs": [
    {
     "name": "stdout",
     "output_type": "stream",
     "text": [
      "¡Alerta! ¡Un asteroide se acerca a velocidades peligrosas!\n"
     ]
    }
   ],
   "source": [
    "# Añadir el código necesario para crear una variable que guarde la velocidad del asteroide.\n",
    "# Escribe una expresión de prueba para calcular si necesita una advertencia.\n",
    "# Agregue las instrucciones que se ejecutarán si la expresión de prueba es true o false.\n",
    "\n",
    "asteroide = 49\n",
    "if asteroide > 25:\n",
    "    print('¡Alerta! ¡Un asteroide se acerca a velocidades peligrosas!')\n",
    "else:\n",
    "    print('¡Sigue con tu día!')"
   ]
  },
  {
   "cell_type": "markdown",
   "metadata": {},
   "source": [
    "Si un asteroide entra en la atmósfera de la Tierra a una velocidad mayor o igual a 20 km/s, a veces produce un rayo de luz que se puede ver desde la Tierra. Escribe la lógica condicional que usa declaraciones if, else, y elif para alertar a las personas de todo el mundo que deben buscar un asteroide en el cielo. ¡Hay uno que se dirige a la tierra ahora a una velocidad de 19 km/s!"
   ]
  },
  {
   "cell_type": "code",
   "execution_count": 9,
   "metadata": {},
   "outputs": [
    {
     "name": "stdout",
     "output_type": "stream",
     "text": [
      "¡Hay un asteroide que se dirige a la tierra🌎 ahora a una velocidad de 19 km/s!\n"
     ]
    }
   ],
   "source": [
    "# Agrega el código para crear una variable para un asteroide que viaja a 19 km/s\n",
    "velocidad_asteroide = 19\n",
    "\n",
    "# Escribe varias expresiones de prueba para determinar si puedes ver el rayo de luz desde la tierra\n",
    "if velocidad_asteroide >= 20:\n",
    "    print('Asteroide visto desde la tierra👽🤖🌎 , produce \\n un rayo de luz ☀⚡ ')\n",
    "elif velocidad_asteroide > 25:\n",
    "    print('⚠ Advertecia ⚠: Asteroide se acerca a tierra🌎...')\n",
    "else:\n",
    "    print(f'¡Hay un asteroide que se dirige a la tierra🌎 ahora a una velocidad de {velocidad_asteroide} km/s!')"
   ]
  },
  {
   "cell_type": "markdown",
   "metadata": {},
   "source": [
    "#### Solución problema No. 2"
   ]
  },
  {
   "cell_type": "code",
   "execution_count": 12,
   "metadata": {},
   "outputs": [
    {
     "name": "stdout",
     "output_type": "stream",
     "text": [
      "¡Nada que ver aquí!\n"
     ]
    }
   ],
   "source": [
    "# Agrega el código para crear una variable para un asteroide que viaja a 19 km/s\n",
    "# Escribe varias expresiones de prueba para determinar si puedes ver el rayo de luz desde la tierra\n",
    "# Agrega las instrucciones que se ejecutarán si las expresiones de prueba son True o False\n",
    "\n",
    "asteroide = 19\n",
    "if asteroide > 20:\n",
    "    print('Look up! ¡Hay una luz mágica en el cielo!')\n",
    "elif asteroide == 20:\n",
    "    print('Look up! ¡Hay una luz mágica en el cielo!')\n",
    "else:\n",
    "    print('¡Nada que ver aquí!')"
   ]
  },
  {
   "cell_type": "markdown",
   "metadata": {},
   "source": [
    "#### Ejercicio: Uso de operadores `and y or`"
   ]
  },
  {
   "cell_type": "markdown",
   "metadata": {},
   "source": [
    "Las expresiones `and` son  `True` sólo si ambas expresiones son veraderas <br><br>\n",
    "Las expresiones `or` son `True` si al menos una subexpresion es veradera\n"
   ]
  },
  {
   "cell_type": "markdown",
   "metadata": {},
   "source": [
    "Aquí está la nueva información que necesitas saber:\n",
    "\n",
    "*Los asteroides de menos de 25 metros en su dimensión más grande probablemente se quemarán a medida que entren en la atmósfera de la Tierra.\n",
    "\n",
    "Si una pieza de un asteroide que es más grande que 25 metros pero más pequeña que 1000 metros golpeara la Tierra, causaría mucho daño.<br><br>\n",
    "También discutimos en el ejercicio anterior que:<br><br>\n",
    "\n",
    "La velocidad del asteroide varía en función de lo cerca que esté del sol, y cualquier velocidad superior a 25 kilómetros por segundo (km/s) merece una advertencia.<br><br>\n",
    "Si un asteroide entra en la atmósfera de la Tierra a una velocidad mayor o igual a 20 km/s, a veces produce un rayo de luz que se puede ver desde la Tierra."
   ]
  },
  {
   "cell_type": "code",
   "execution_count": 10,
   "metadata": {},
   "outputs": [
    {
     "name": "stdout",
     "output_type": "stream",
     "text": [
      "Asteroide visto desde la tierra👽🤖🌎 , produce \n",
      " un rayo de luz ☀⚡\n"
     ]
    }
   ],
   "source": [
    "# Agrega el código para crear nuevas variables para la velocidad y el tamaño del asteroide\n",
    "velocidad_asteroide = 24 # km/s\n",
    "dimension_asteroide = 25 # m\n",
    "\n",
    "# Para probar el código, prueba con varias velocidades y tamaños\n",
    "# Escribe varias expresiones de prueba o combinaciones de expresiones de prueba para determinar qué mensaje s\n",
    "if dimension_asteroide > 25 and dimension_asteroide < 1000:\n",
    "    print('Asteroide causara mucho daño')  \n",
    "elif velocidad_asteroide > 25:\n",
    "    print('⚠ Advertecia ⚠: Asteroide se acerca a tierra🌎...')\n",
    "elif velocidad_asteroide >= 20: \n",
    "    print('Asteroide visto desde la tierra👽🤖🌎 , produce \\n un rayo de luz ☀⚡')\n",
    "else:    \n",
    "    print('Tripulación a salvo! \\n El Asteroide se quemara en la atomsfera 👽🤖🌎')\n"
   ]
  },
  {
   "cell_type": "markdown",
   "metadata": {},
   "source": [
    "#### Solucion problema No. 3"
   ]
  },
  {
   "cell_type": "code",
   "execution_count": 13,
   "metadata": {},
   "outputs": [
    {
     "name": "stdout",
     "output_type": "stream",
     "text": [
      "Look up! ¡Hay una luz mágica en el cielo!\n"
     ]
    }
   ],
   "source": [
    "# Agrega el código para crear nuevas variables para la velocidad y el tamaño del asteroide\n",
    "# Para probar el código, prueba con varias velocidades y tamaños\n",
    "# Escribe varias expresiones de prueba o combinaciones de expresiones de prueba para determinar qué mensaje se debe enviar a Tierra.\n",
    "\n",
    "velocidad_asteroide = 25\n",
    "tamano_asteroide = 40\n",
    "if velocidad_asteroide > 25 and tamano_asteroide > 25:\n",
    "    print('¡Alerta, Un asteroide muy peligroso viene hacia la Tierra!')\n",
    "elif velocidad_asteroide >= 20:\n",
    "    print('Look up! ¡Hay una luz mágica en el cielo!')\n",
    "elif tamano_asteroide < 25:\n",
    "    print('Nada que ver aquí :)')\n",
    "else:\n",
    "    print('Nada que ver aquí :)')"
   ]
  }
 ],
 "metadata": {
  "interpreter": {
   "hash": "6cb7802b8a24d27d83146ff99a4950f6d20687e85d7335fb9006265914123dc9"
  },
  "kernelspec": {
   "display_name": "Python 3.8.4 32-bit",
   "language": "python",
   "name": "python3"
  },
  "language_info": {
   "codemirror_mode": {
    "name": "ipython",
    "version": 3
   },
   "file_extension": ".py",
   "mimetype": "text/x-python",
   "name": "python",
   "nbconvert_exporter": "python",
   "pygments_lexer": "ipython3",
   "version": "3.8.4"
  },
  "orig_nbformat": 4
 },
 "nbformat": 4,
 "nbformat_minor": 2
}
