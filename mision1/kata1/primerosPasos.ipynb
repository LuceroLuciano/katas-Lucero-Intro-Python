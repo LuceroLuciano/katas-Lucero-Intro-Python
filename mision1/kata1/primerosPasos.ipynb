{
 "cells": [
  {
   "cell_type": "markdown",
   "metadata": {},
   "source": [
    "# Modulo 1-Kata 1: Primeros Pasos"
   ]
  },
  {
   "cell_type": "markdown",
   "metadata": {},
   "source": [
    "#### Mi primer programa\n",
    "Programa que muestra la fecha"
   ]
  },
  {
   "cell_type": "code",
   "execution_count": 15,
   "metadata": {},
   "outputs": [
    {
     "name": "stdout",
     "output_type": "stream",
     "text": [
      "Today´s date is: 2022-02-11\n"
     ]
    }
   ],
   "source": [
    "# Programa que muestra la fecha\n",
    "from datetime import date\n",
    "\n",
    "print(\"Today´s date is: \" + str(date.today()))"
   ]
  },
  {
   "cell_type": "markdown",
   "metadata": {},
   "source": [
    "#### Construyendon un convertidor de unidades\n",
    "Programa de conversión entre parsecs y años luz."
   ]
  },
  {
   "cell_type": "code",
   "execution_count": 17,
   "metadata": {},
   "outputs": [
    {
     "name": "stdout",
     "output_type": "stream",
     "text": [
      "11 parsec, is 35.877159999999996 lightyears \n"
     ]
    }
   ],
   "source": [
    "# [!TIP] 1 parsec es 3.26156 años luz. Utiliza el operador de la multiplicacion\n",
    "\n",
    "parsec = 11\n",
    "lightyears = 3.26156 \n",
    "parsec_to_lightyears = parsec * lightyears\n",
    "print(str(parsec) + ' parsec, is ' + str(parsec_to_lightyears) + ' lightyears ')\n"
   ]
  },
  {
   "cell_type": "code",
   "execution_count": 18,
   "metadata": {},
   "outputs": [
    {
     "name": "stdout",
     "output_type": "stream",
     "text": [
      "Today´s date is: 2022-02-11\n",
      "11 parsec, is 35.877159999999996 lightyears \n"
     ]
    }
   ],
   "source": [
    "# primer programa terminado\n",
    "\n",
    "# Programa que muestra la fecha\n",
    "from datetime import date\n",
    "\n",
    "print(\"Today´s date is: \" + str(date.today()))\n",
    "\n",
    "# [!TIP] 1 parsec es 3.26156 años luz. Utiliza el operador de la multiplicacion\n",
    "parsec = 11\n",
    "lightyears = 3.26156 \n",
    "parsec_to_lightyears = parsec * lightyears\n",
    "print(str(parsec) + ' parsec, is ' + str(parsec_to_lightyears) + ' lightyears ')"
   ]
  },
  {
   "cell_type": "markdown",
   "metadata": {},
   "source": [
    "#### Programa Python \n",
    "Para crear un programa en python se hace con la extension .py y nombre del archivo, Ej:` primerosPasos.py`\n",
    "\n",
    "Para ejecutar el programa solo se escribe el siguiente código: `python primerosPasos.py` o bien `python3 primerosPasos.py`\n"
   ]
  },
  {
   "cell_type": "code",
   "execution_count": 1,
   "metadata": {},
   "outputs": [
    {
     "name": "stdout",
     "output_type": "stream",
     "text": [
      "3\n"
     ]
    }
   ],
   "source": [
    "#primerosPasos.py\n",
    "sum = 1 + 2\n",
    "print(sum)"
   ]
  },
  {
   "cell_type": "markdown",
   "metadata": {},
   "source": [
    "#### Funcion `print()`"
   ]
  },
  {
   "cell_type": "code",
   "execution_count": 2,
   "metadata": {},
   "outputs": [
    {
     "name": "stdout",
     "output_type": "stream",
     "text": [
      "Hello Explorer!, Welcome to this mission!\n"
     ]
    }
   ],
   "source": [
    "# Impresion en pantalla print\n",
    "print('Hello Explorer!, Welcome to this mission!')"
   ]
  },
  {
   "cell_type": "markdown",
   "metadata": {},
   "source": [
    "#### Variables\n",
    "Las variables son como \"cajitas\" que almacenan \"algo\", puede ser un numero, un nombre, una letra, una fecha, etc."
   ]
  },
  {
   "cell_type": "code",
   "execution_count": 3,
   "metadata": {},
   "outputs": [
    {
     "name": "stdout",
     "output_type": "stream",
     "text": [
      "6\n"
     ]
    }
   ],
   "source": [
    "sum = 1 + 2\n",
    "product = sum * 2\n",
    "print(product)"
   ]
  },
  {
   "cell_type": "markdown",
   "metadata": {},
   "source": [
    "#### Tipos de datos\n"
   ]
  },
  {
   "cell_type": "code",
   "execution_count": 4,
   "metadata": {},
   "outputs": [],
   "source": [
    "planetas_en_el_sistema_solar = 8 # int, pluton era considerado un planeta pero ya es muy pequeño\n",
    "distancia_a_alfa_centauri = 4.367 # float, años luz\n",
    "puede_despegar = True\n",
    "transordador_que_aterrizo_en_la_luna = 'Apollo 11' # String"
   ]
  },
  {
   "cell_type": "markdown",
   "metadata": {},
   "source": [
    "Con la funcion `type()` se puede saber que tipo de dato es. Ej\n",
    "`type(distancia_a_alfa_centauri)`"
   ]
  },
  {
   "cell_type": "code",
   "execution_count": 6,
   "metadata": {},
   "outputs": [
    {
     "data": {
      "text/plain": [
       "float"
      ]
     },
     "execution_count": 6,
     "metadata": {},
     "output_type": "execute_result"
    }
   ],
   "source": [
    "# Declarando la variable \n",
    "distancia_a_alfa_centauri = 4.367\n",
    "\n",
    "#Descubriendo su tipo de dato\n",
    "type(distancia_a_alfa_centauri)"
   ]
  },
  {
   "cell_type": "markdown",
   "metadata": {},
   "source": [
    "#### Operadores"
   ]
  },
  {
   "cell_type": "code",
   "execution_count": 7,
   "metadata": {},
   "outputs": [
    {
     "data": {
      "text/plain": [
       "2.0"
      ]
     },
     "execution_count": 7,
     "metadata": {},
     "output_type": "execute_result"
    }
   ],
   "source": [
    "# operador de division /\n",
    "\n",
    "left_side = 10\n",
    "right_side = 5\n",
    "left_side / right_side # 2"
   ]
  },
  {
   "cell_type": "markdown",
   "metadata": {},
   "source": [
    "#### Fechas\n",
    "para trabajar con fechas se debe importar el modulo: `date`"
   ]
  },
  {
   "cell_type": "code",
   "execution_count": 8,
   "metadata": {},
   "outputs": [
    {
     "name": "stdout",
     "output_type": "stream",
     "text": [
      "2022-02-11\n"
     ]
    }
   ],
   "source": [
    "# importacion de la biblioteca\n",
    "from datetime import date\n",
    "\n",
    "# obtiene la fecha de hoy\n",
    "date.today()\n",
    "\n",
    "# mostrar fecha en la consola\n",
    "print(date.today())"
   ]
  },
  {
   "cell_type": "markdown",
   "metadata": {},
   "source": [
    "#### Conversion de tipos de datos"
   ]
  },
  {
   "cell_type": "code",
   "execution_count": 9,
   "metadata": {},
   "outputs": [
    {
     "name": "stdout",
     "output_type": "stream",
     "text": [
      "Today´s date is: 2022-02-11\n"
     ]
    }
   ],
   "source": [
    "# incorrecto\n",
    "# print(\"Today´s date is: \" + date.todat())\n",
    "\n",
    "# correcto\n",
    "print(\"Today´s date is: \" + str(date.today()))"
   ]
  },
  {
   "cell_type": "markdown",
   "metadata": {},
   "source": [
    "## Recopilacion de datos"
   ]
  },
  {
   "cell_type": "markdown",
   "metadata": {},
   "source": [
    "#### Entrada del usuario"
   ]
  },
  {
   "cell_type": "code",
   "execution_count": 10,
   "metadata": {},
   "outputs": [
    {
     "name": "stdout",
     "output_type": "stream",
     "text": [
      "Bienvenido al programa de bienvenida\n",
      "Saludos: Lucero\n"
     ]
    }
   ],
   "source": [
    "print('Bienvenido al programa de bienvenida')\n",
    "name = input('Introduce tu nombre: ')\n",
    "print('Saludos: ' + name)"
   ]
  },
  {
   "cell_type": "markdown",
   "metadata": {},
   "source": [
    "#### Trabajar con numeros"
   ]
  },
  {
   "cell_type": "code",
   "execution_count": 11,
   "metadata": {},
   "outputs": [
    {
     "name": "stdout",
     "output_type": "stream",
     "text": [
      "Calculadora\n",
      "23\n"
     ]
    }
   ],
   "source": [
    "print('Calculadora')\n",
    "first_number = input('Primer numero: ')\n",
    "second_number = input('Segundo numero: ')\n",
    "print(first_number + second_number)\n"
   ]
  },
  {
   "cell_type": "markdown",
   "metadata": {},
   "source": [
    "La ejecución de este programa dara el siguiente resultado:<br>\n",
    "`Calculadora`<br>\n",
    "`Primer numero: 3`<br>\n",
    "`Segundo numero: 4`<br>\n",
    "`34`<br>\n",
    "El resultado es `34` en lugar de `7` <br>\n",
    "La explicacion es que el prograa toma ambos numeros como si fuessen `cadenas de texto`. Para que el calculo funcione debe cambiar esas cadenas a numeros mediante la funcion `int()`"
   ]
  },
  {
   "cell_type": "code",
   "execution_count": 12,
   "metadata": {},
   "outputs": [
    {
     "name": "stdout",
     "output_type": "stream",
     "text": [
      "5\n"
     ]
    }
   ],
   "source": [
    "print(int(first_number) + int(second_number))"
   ]
  }
 ],
 "metadata": {
  "interpreter": {
   "hash": "6cb7802b8a24d27d83146ff99a4950f6d20687e85d7335fb9006265914123dc9"
  },
  "kernelspec": {
   "display_name": "Python 3.8.4 32-bit",
   "language": "python",
   "name": "python3"
  },
  "language_info": {
   "codemirror_mode": {
    "name": "ipython",
    "version": 3
   },
   "file_extension": ".py",
   "mimetype": "text/x-python",
   "name": "python",
   "nbconvert_exporter": "python",
   "pygments_lexer": "ipython3",
   "version": "3.8.4"
  },
  "orig_nbformat": 4
 },
 "nbformat": 4,
 "nbformat_minor": 2
}
