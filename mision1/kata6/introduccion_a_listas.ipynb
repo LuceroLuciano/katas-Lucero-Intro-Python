{
 "cells": [
  {
   "cell_type": "markdown",
   "metadata": {},
   "source": [
    "# Listas en Python"
   ]
  },
  {
   "cell_type": "markdown",
   "metadata": {},
   "source": [
    "**Listas** <br>\n",
    "Las listas son un tipo de dato en Python y son dinámicas, es decir se pueden agregar o eliminar elementos. <br>\n",
    " Cada valor está separado por una coma y rodeado por corchetes `([])`"
   ]
  },
  {
   "cell_type": "code",
   "execution_count": 3,
   "metadata": {},
   "outputs": [],
   "source": [
    "planets = ['Mercurio', 'Venus', 'Earth','Mars', 'Jupiter', 'Satunr', 'Uranus', 'Neptune' ]"
   ]
  },
  {
   "cell_type": "markdown",
   "metadata": {},
   "source": [
    "**Acceder a elementos de la lista por índice `lista[]`** <br>\n",
    "Todos los indices de las listas inician en cero `0`\n"
   ]
  },
  {
   "cell_type": "code",
   "execution_count": 4,
   "metadata": {},
   "outputs": [
    {
     "name": "stdout",
     "output_type": "stream",
     "text": [
      "the first planet is Mercurio\n",
      "the first planet is Venus\n",
      "the first planet is Earth\n"
     ]
    }
   ],
   "source": [
    "print('the first planet is', planets[0])\n",
    "print('the first planet is', planets[1])\n",
    "print('the first planet is', planets[2])"
   ]
  },
  {
   "cell_type": "markdown",
   "metadata": {},
   "source": [
    "Se pueden modificar los valores mediante un índice."
   ]
  },
  {
   "cell_type": "code",
   "execution_count": 12,
   "metadata": {},
   "outputs": [
    {
     "name": "stdout",
     "output_type": "stream",
     "text": [
      "La lista inicla de planetas es: ['Mercurio', 'Venus', 'Earth', 'Mars', 'Jupiter', 'Satunr', 'Uranus', 'Neptune']\n",
      "El valor del indice 3 en la lista es: Mars\n",
      "El valor del indice 3 en la lista ahora es: Red Planet Mars is also know as Red Planet\n",
      "La lista nueva de planetas es: ['Mercurio', 'Venus', 'Earth', 'Red Planet', 'Jupiter', 'Satunr', 'Uranus', 'Neptune']\n"
     ]
    }
   ],
   "source": [
    "planetas = ['Mercurio', 'Venus', 'Earth','Mars', 'Jupiter', 'Satunr', 'Uranus', 'Neptune' ]\n",
    "\n",
    "# Imprimie la lista inicial sin modificaciones\n",
    "print('La lista inicla de planetas es:', planetas)\n",
    "# Imprime el valor del indice 3\n",
    "print('El valor del indice 3 en la lista es:', planetas[3])\n",
    "\n",
    "# Moficacion de valor en el idice 3 de la lista\n",
    "planetas[3] = 'Red Planet'\n",
    "print('El valor del indice 3 en la lista ahora es:', planetas[3], 'Mars is also know as', planetas[3])\n",
    "print('La lista nueva de planetas es:', planetas)\n"
   ]
  },
  {
   "cell_type": "markdown",
   "metadata": {},
   "source": [
    "**Determinar la logitud de un lista `len(lista)`**"
   ]
  },
  {
   "cell_type": "code",
   "execution_count": 5,
   "metadata": {},
   "outputs": [
    {
     "name": "stdout",
     "output_type": "stream",
     "text": [
      "There are 8 planets in the solar system\n"
     ]
    }
   ],
   "source": [
    "number_of_planets = len(planets)\n",
    "print('There are', number_of_planets, 'planets in the solar system')"
   ]
  },
  {
   "cell_type": "markdown",
   "metadata": {},
   "source": [
    "**Agregar valores a listas `.append(value)`** <br>\n",
    "planets."
   ]
  },
  {
   "cell_type": "code",
   "execution_count": 14,
   "metadata": {},
   "outputs": [
    {
     "name": "stdout",
     "output_type": "stream",
     "text": [
      "There are actually 9 planets in the solar system\n"
     ]
    }
   ],
   "source": [
    "planets = ['Mercurio', 'Venus', 'Earth','Mars', 'Jupiter', 'Satunr', 'Uranus', 'Neptune' ]\n",
    "planets.append('Pluto')\n",
    "number_of_planets = len(planets)\n",
    "print('There are actually', number_of_planets, 'planets in the solar system')"
   ]
  },
  {
   "cell_type": "markdown",
   "metadata": {},
   "source": [
    "**Eliminar valores de una lista `.pop`**"
   ]
  },
  {
   "cell_type": "code",
   "execution_count": 15,
   "metadata": {},
   "outputs": [
    {
     "name": "stdout",
     "output_type": "stream",
     "text": [
      "No, there are definitely 8 planets in the solar system\n"
     ]
    }
   ],
   "source": [
    "planets.pop()  # Goodby, Pluto\n",
    "number_of_planets = len(planets)\n",
    "print('No, there are definitely', number_of_planets, 'planets in the solar system')"
   ]
  },
  {
   "cell_type": "markdown",
   "metadata": {},
   "source": [
    "**índices negativos** <br>\n",
    " Los índices negativos comienzan al final de la lista y trabajan hacia atrás. <br>\n",
    " El indice `-1` devuelve el ultimo elemento de la lista"
   ]
  },
  {
   "cell_type": "code",
   "execution_count": 17,
   "metadata": {},
   "outputs": [
    {
     "name": "stdout",
     "output_type": "stream",
     "text": [
      "The last planet is Neptune\n",
      "The penultimate planet is Uranus\n"
     ]
    }
   ],
   "source": [
    "print('The last planet is', planets[-1])\n",
    "print('The penultimate planet is', planets[-2])"
   ]
  },
  {
   "cell_type": "markdown",
   "metadata": {},
   "source": [
    "**Buscar un valor en una lista** <br>\n",
    "Para determinar en qué parte de una lista se almacena un valor, utilizamos el método `index()` de la lista. Este método busca el valor y devuelve el índice de ese elemento en la lista. Si no encuentra una coincidencia, devuelve `-1`."
   ]
  },
  {
   "cell_type": "code",
   "execution_count": 18,
   "metadata": {},
   "outputs": [
    {
     "name": "stdout",
     "output_type": "stream",
     "text": [
      "Jupiter is the 5 planet from the sun\n"
     ]
    }
   ],
   "source": [
    "jupiter_index = planets.index('Jupiter')\n",
    "print('Jupiter is the', jupiter_index + 1, 'planet from the sun')"
   ]
  },
  {
   "cell_type": "markdown",
   "metadata": {},
   "source": [
    "**Almacenar números en listas**"
   ]
  },
  {
   "cell_type": "code",
   "execution_count": 19,
   "metadata": {},
   "outputs": [],
   "source": [
    "# Variables que almacenan numero flotantes\n",
    "gravity_on_earth = 1.0\n",
    "gravity_on_the_moon = .168\n",
    "\n",
    "# Fuerzzas gravitacionales de lo 8 planetas del sistema solar\n",
    "gravity_on_planets = [0.378, 0.907, 1, 0.379, 2.36, 0.916, 0.889, 1.12]"
   ]
  },
  {
   "cell_type": "markdown",
   "metadata": {},
   "source": [
    "En esta lista, gravity_on_planets[0] está la gravedad en Mercurio (0.378 G), gravity_on_planets[1] es la gravedad en Venus (0.907 G), y así sucesivamente. <br><br>\n",
    "\n",
    "En la Tierra, un autobús de dos pisos pesa 12,650 kilogramos (kg), que es 12.65 toneladas. En Mercurio, donde la gravedad es de 0,378 G, el mismo autobús pesa 12.65 toneladas multiplicadas por 0.378. En Python, para multiplicar dos valores, se utiliza el símbolo *.<br><br>\n",
    "\n",
    "En el siguiente ejemplo, puedes calcular el peso de un bus de dos pisos en diferentes planetas obteniendo el valor de la lista:"
   ]
  },
  {
   "cell_type": "code",
   "execution_count": 24,
   "metadata": {},
   "outputs": [
    {
     "name": "stdout",
     "output_type": "stream",
     "text": [
      "On Earth, a double-decker bus weighs 12650 kg\n",
      "On Mercury, a double-decker bus weighs 4781.7 kg\n"
     ]
    }
   ],
   "source": [
    "# Fuerzzas gravitacionales de lo 8 planetas del sistema solar\n",
    "gravity_on_planets = [0.378, 0.907, 1, 0.379, 2.36, 0.916, 0.889, 1.12]\n",
    "\n",
    "bus_weight = 12650 # in kilograms, on Earth\n",
    "\n",
    "print('On Earth, a double-decker bus weighs', bus_weight, 'kg')\n",
    "print('On Mercury, a double-decker bus weighs', bus_weight * gravity_on_planets[0], 'kg')"
   ]
  },
  {
   "cell_type": "markdown",
   "metadata": {},
   "source": [
    "**min() y max () con listas** <br>\n",
    "`max()` devuelve el numero mas grande <br>\n",
    "`min()` devuelve el numero mas pequeño"
   ]
  },
  {
   "cell_type": "code",
   "execution_count": 25,
   "metadata": {},
   "outputs": [
    {
     "name": "stdout",
     "output_type": "stream",
     "text": [
      "On Earth, a double-decker bus weighs 12650 kg\n",
      "The lightest a bus would be in the solar system is 4781.7 kg\n",
      "The heaviest a bus would be in the solar system is 29854.0 kg\n"
     ]
    }
   ],
   "source": [
    "bus_weight = 12650 # in kilograms, on Earth\n",
    "\n",
    "print('On Earth, a double-decker bus weighs', bus_weight, 'kg')\n",
    "print('The lightest a bus would be in the solar system is', bus_weight * min(gravity_on_planets), 'kg')\n",
    "print('The heaviest a bus would be in the solar system is', bus_weight * max(gravity_on_planets), 'kg')"
   ]
  },
  {
   "cell_type": "markdown",
   "metadata": {},
   "source": [
    "**Manipular datos de lista**"
   ]
  },
  {
   "cell_type": "markdown",
   "metadata": {},
   "source": [
    "`Slice list`<br>\n",
    "Puedes recuperar una parte de una lista mediante un `slice` (Entendamos slice como una porción, un pedacito, un fragmento, segmento.). `Slice` utiliza corchetes, pero en lugar de un solo elemento, tiene los índices inicial y final de los elementos que queremos recuperar. Cuando se utiliza `slice`, se crea una nueva lista que comienza en el índice inicial y que termina antes (y no incluye) el índice final.<br>\n",
    "\n",
    "La lista de planetas tiene ocho elementos. La Tierra es la tercera en la lista. Para obtener los planetas antes que la Tierra, use un slice para obtener elementos que comienzan en 0 y terminan en 2: <br>\n",
    "\n",
    "Un `slice` crea una nueva lista. No modifica la lista actual."
   ]
  },
  {
   "cell_type": "code",
   "execution_count": 27,
   "metadata": {},
   "outputs": [
    {
     "name": "stdout",
     "output_type": "stream",
     "text": [
      "['Mercury', 'Venus']\n",
      "['Mars', 'Jupiter', 'Saturn', 'Uranus', 'Neptune']\n"
     ]
    }
   ],
   "source": [
    "planets = ['Mercury', 'Venus', 'Earth', 'Mars', 'Jupiter', 'Saturn', 'Uranus', 'Neptune']\n",
    "planets_before_earth = planets[0:2]\n",
    "print(planets_before_earth)\n",
    "\n",
    "planets_after_earth = planets[3:8]\n",
    "print(planets_after_earth)"
   ]
  },
  {
   "cell_type": "markdown",
   "metadata": {},
   "source": [
    "**Uniendo listas `+`** <br>\n",
    "Al unir las listas, se crea una nueva lista. No se modifica la lista actual. <br>\n",
    "\n",
    "Hay 79 lunas conocidas de Júpiter. Las cuatro más grandes son Io, Europa, Ganímedes y Calisto. Estas se llaman las lunas galileanas, porque Galileo Galilei las descubrió usando su telescopio en 1610. Más cerca de Júpiter que del grupo galileo está el grupo de Amaltea. Consiste en las lunas Metis, Adrastea, Amaltea y Teba. <br>\n",
    "\n",
    "Crea dos listas. Llene la primera lista con las cuatro lunas de Amaltea y la segunda lista con las cuatro lunas galileanas. Únelos para crear una nueva lista:"
   ]
  },
  {
   "cell_type": "code",
   "execution_count": 28,
   "metadata": {},
   "outputs": [
    {
     "name": "stdout",
     "output_type": "stream",
     "text": [
      "The regular satellite moons of Jupiter are ['Metis', 'Adrastea', 'Amalthea', 'Thebe', 'Io', 'Europa', 'Ganymede', 'Callisto']\n"
     ]
    }
   ],
   "source": [
    "amalthea_group = ['Metis', 'Adrastea', 'Amalthea', 'Thebe']\n",
    "galilean_moons = ['Io', 'Europa', 'Ganymede', 'Callisto']\n",
    "\n",
    "regular_satellite_moons = amalthea_group + galilean_moons\n",
    "print('The regular satellite moons of Jupiter are', regular_satellite_moons)"
   ]
  },
  {
   "cell_type": "markdown",
   "metadata": {},
   "source": [
    "**Ordenar listas `sort()`**<br>\n",
    "ordenará una lista de cadenas en orden alfabético y una lista de números en orden numérico: <br>\n",
    "Al usar el método .sort modificas la lista actual."
   ]
  },
  {
   "cell_type": "code",
   "execution_count": 30,
   "metadata": {},
   "outputs": [
    {
     "name": "stdout",
     "output_type": "stream",
     "text": [
      "The regular satellite moons of Jupiter are ['Adrastea', 'Amalthea', 'Callisto', 'Europa', 'Ganymede', 'Io', 'Metis', 'Thebe']\n",
      "The regular satellite moons of Jupiter are ['Thebe', 'Metis', 'Io', 'Ganymede', 'Europa', 'Callisto', 'Amalthea', 'Adrastea']\n"
     ]
    }
   ],
   "source": [
    "regular_satellite_moons.sort()\n",
    "print(\"The regular satellite moons of Jupiter are\", regular_satellite_moons)\n",
    "\n",
    "# ordena una lista en forma inversa .sort(reverse=True)\n",
    "regular_satellite_moons.sort(reverse=True)\n",
    "print(\"The regular satellite moons of Jupiter are\", regular_satellite_moons)"
   ]
  },
  {
   "cell_type": "markdown",
   "metadata": {},
   "source": [
    "# Ejercicio1: Crear y usar listas de Python <br>\n",
    "**Ejercicio: Usar listas para almacenar nombres de planetas** \n",
    "<br><br>\n",
    "Las listas permiten almacenar varios valores en una sola variable. Comenzarás un proyecto sobre información planetaria creando una lista de planetas. <br><br>\n",
    "En primer lugar, crea una variable denominada planets. Agrega los ocho planetas (sin Plutón) a la lista. A continuación, muestra el número de planetas."
   ]
  },
  {
   "cell_type": "code",
   "execution_count": 31,
   "metadata": {},
   "outputs": [
    {
     "name": "stdout",
     "output_type": "stream",
     "text": [
      "Plutón\n",
      "['Mercurio', 'Venus', 'Tierra', 'Marte', 'Jupiter', 'Saturno', 'Urano', 'Neptuno', 'Plutón']\n"
     ]
    }
   ],
   "source": [
    "# Creamos la lista de los 8 planetas\n",
    "planetas = ['Mercurio', 'Venus','Tierra', 'Marte','Jupiter', 'Saturno','Urano', 'Neptuno']\n",
    "\n",
    "# Agrega Pluton a la lista planetas\n",
    "# Muestra el ultimo elemeno de ñaa lista\n",
    "planetas.append('Plutón')\n",
    "print(planetas[-1])\n",
    "\n",
    "# Imprime la lista\n",
    "print(planetas)"
   ]
  },
  {
   "cell_type": "markdown",
   "metadata": {},
   "source": [
    "# Ejercicio 2: Trabajando con datos de una lista <br>\n",
    "**Usar slices para recuperar partes de una lista** <br><br>\n",
    "Es posible que debas trabajar con diferentes secciones de una lista. En nuestro ejemplo, queremos mostrar planetas más cerca y más lejos del sol de un planeta que el usuario ingresa por teclado.<br>\n",
    "\n",
    "Comienza agregando el código para crear una lista con los planetas."
   ]
  },
  {
   "cell_type": "code",
   "execution_count": 44,
   "metadata": {},
   "outputs": [
    {
     "name": "stdout",
     "output_type": "stream",
     "text": [
      "Planeta Jupiter encontrado en la lista\n",
      "Aqui estan los planetas mas cercanos al sol desde Jupiter\n",
      "['Mercurio', 'Venus', 'Tierra', 'Marte']\n",
      "Aqui estan los planetas mas lejanos al sol desde Jupiter\n",
      "['Saturno', 'Urano', 'Neptuno']\n"
     ]
    }
   ],
   "source": [
    "# Lista de planetas\n",
    "planetas = ['Mercurio', 'Venus','Tierra', 'Marte','Jupiter', 'Saturno','Urano', 'Neptuno']\n",
    "\n",
    "# Solicitamos el nombre de un planeta\n",
    "nombrePlaneta = input('Ingresa el nombre de un planeta, (Inicia el nobre con mayuscula, por ejemplo: Pluton): ')\n",
    "\n",
    "# Busca el planeta en la lista\n",
    "planet_index = planetas.index(nombrePlaneta)\n",
    "print(f'Planeta { nombrePlaneta } encontrado en la lista')\n",
    "\n",
    "# Mostrar planetas más cercaos al sol que el usuario ingresó\n",
    "print('Aqui estan los planetas mas cercanos al sol desde ' + nombrePlaneta)\n",
    "print(planetas[0:planet_index])\n",
    "\n",
    "# Muestra los planetas más lejanos a sol\n",
    "print('Aqui estan los planetas mas lejanos al sol desde ' + nombrePlaneta)\n",
    "print(planetas[planet_index + 1:])"
   ]
  }
 ],
 "metadata": {
  "interpreter": {
   "hash": "6cb7802b8a24d27d83146ff99a4950f6d20687e85d7335fb9006265914123dc9"
  },
  "kernelspec": {
   "display_name": "Python 3.8.4 32-bit",
   "language": "python",
   "name": "python3"
  },
  "language_info": {
   "codemirror_mode": {
    "name": "ipython",
    "version": 3
   },
   "file_extension": ".py",
   "mimetype": "text/x-python",
   "name": "python",
   "nbconvert_exporter": "python",
   "pygments_lexer": "ipython3",
   "version": "3.8.4"
  },
  "orig_nbformat": 4
 },
 "nbformat": 4,
 "nbformat_minor": 2
}
