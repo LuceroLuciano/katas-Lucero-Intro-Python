{
 "cells": [
  {
   "cell_type": "markdown",
   "metadata": {},
   "source": [
    "# Operaciones matematicas"
   ]
  },
  {
   "cell_type": "markdown",
   "metadata": {},
   "source": [
    "suma, resta, multiplicación y division"
   ]
  },
  {
   "cell_type": "code",
   "execution_count": 1,
   "metadata": {},
   "outputs": [
    {
     "name": "stdout",
     "output_type": "stream",
     "text": [
      "25\n",
      "15\n",
      "100\n",
      "4.0\n"
     ]
    }
   ],
   "source": [
    "# operaciones matematicas\n",
    "a =  20\n",
    "b = 5\n",
    "suma = a + b    # suma\n",
    "resta = a - b    # resta\n",
    "multiplicacion = a * b    # multiplicacion\n",
    "division = a / b    # division\n",
    "\n",
    "print(suma)\n",
    "print(resta)\n",
    "print(multiplicacion)\n",
    "print(division)"
   ]
  },
  {
   "cell_type": "markdown",
   "metadata": {},
   "source": [
    "`//` Division de piso, se utiliza para redondear hacia abajo, por ejemplo: el redondeo de `17.366667` es `17`"
   ]
  },
  {
   "cell_type": "code",
   "execution_count": 2,
   "metadata": {},
   "outputs": [
    {
     "name": "stdout",
     "output_type": "stream",
     "text": [
      "17\n"
     ]
    }
   ],
   "source": [
    "# convertir minutos y segundos\n",
    "seconds = 1042\n",
    "display_minutes = 1024 // 60\n",
    "print(display_minutes)"
   ]
  },
  {
   "cell_type": "markdown",
   "metadata": {},
   "source": [
    "`%` Modulo es lo que sobra de una divisíón"
   ]
  },
  {
   "cell_type": "code",
   "execution_count": 3,
   "metadata": {},
   "outputs": [
    {
     "name": "stdout",
     "output_type": "stream",
     "text": [
      "17\n",
      "22\n"
     ]
    }
   ],
   "source": [
    "seconds = 1042\n",
    "display_minutes = 1042 // 60\n",
    "display_seconds = 1042 % 60\n",
    "\n",
    "print(display_minutes) # salida: 17\n",
    "print(display_seconds) # salida: 22"
   ]
  },
  {
   "cell_type": "markdown",
   "metadata": {},
   "source": [
    "Jerarqui de operaciones <br>\n",
    "1.- Perentesis <br>\n",
    "2.. Exponentes <br>\n",
    "3.- Multiplicación y división <br>\n",
    "4.- Suma y resta"
   ]
  },
  {
   "cell_type": "code",
   "execution_count": 6,
   "metadata": {},
   "outputs": [
    {
     "name": "stdout",
     "output_type": "stream",
     "text": [
      "1084\n",
      "1084\n"
     ]
    }
   ],
   "source": [
    "result_1 = 1032 + 26 * 2\n",
    "result_2 = 1032 + (26 * 2) # esta es mas comprensible\n",
    "\n",
    "print(result_1)\n",
    "print(result_2)"
   ]
  },
  {
   "cell_type": "markdown",
   "metadata": {},
   "source": [
    "#### Trabajar con numeros en Python"
   ]
  },
  {
   "cell_type": "markdown",
   "metadata": {},
   "source": [
    "**Convertir cadenas en números** <br>\n",
    "`int` para convertir a un número entero <br>\n",
    "`float` para convertir a un numero de coma flotante"
   ]
  },
  {
   "cell_type": "code",
   "execution_count": 7,
   "metadata": {},
   "outputs": [
    {
     "name": "stdout",
     "output_type": "stream",
     "text": [
      "215\n"
     ]
    }
   ],
   "source": [
    "demo_int = int('215')\n",
    "print(demo_int)"
   ]
  },
  {
   "cell_type": "code",
   "execution_count": 11,
   "metadata": {},
   "outputs": [
    {
     "name": "stdout",
     "output_type": "stream",
     "text": [
      "215.3\n"
     ]
    }
   ],
   "source": [
    "demo_float = float('215.3')\n",
    "print(demo_float)"
   ]
  },
  {
   "cell_type": "markdown",
   "metadata": {},
   "source": [
    "**Vaores absolutos** <br>\n",
    "El valor **absoluto** hace referencia al valor sin signos, es decir sin negativo"
   ]
  },
  {
   "cell_type": "code",
   "execution_count": 12,
   "metadata": {},
   "outputs": [
    {
     "name": "stdout",
     "output_type": "stream",
     "text": [
      "23\n",
      "-23\n"
     ]
    }
   ],
   "source": [
    "a = 39 - 16\n",
    "b = 16 - 39\n",
    "\n",
    "print(a)\n",
    "print(b)\n",
    "\n",
    "# convertimos el valor negativo en su valor absoluto utilizando abs"
   ]
  },
  {
   "cell_type": "code",
   "execution_count": 13,
   "metadata": {},
   "outputs": [
    {
     "name": "stdout",
     "output_type": "stream",
     "text": [
      "23\n",
      "23\n"
     ]
    }
   ],
   "source": [
    "print(abs(39 - 16))\n",
    "print(abs(16 - 39))"
   ]
  },
  {
   "cell_type": "markdown",
   "metadata": {},
   "source": [
    "Redondeo con `round()`  <br>\n",
    "Usada para redondear al entero más cercano si el valor decimal `.5` es mayor o mayor, o hacia abajo si es menor que `.5`."
   ]
  },
  {
   "cell_type": "code",
   "execution_count": 15,
   "metadata": {},
   "outputs": [
    {
     "name": "stdout",
     "output_type": "stream",
     "text": [
      "14\n",
      "14\n",
      "15\n"
     ]
    }
   ],
   "source": [
    "print(round(14.4))\n",
    "print(round(14.5))\n",
    "print(round(14.6))"
   ]
  },
  {
   "cell_type": "markdown",
   "metadata": {},
   "source": [
    "**Biblioteca Math**<br>\n",
    "`math` te permite realizar el redondeo con `floor ` y `ceil`, proporcionar el valor de pi, y muchas otras operaciones."
   ]
  },
  {
   "cell_type": "code",
   "execution_count": 16,
   "metadata": {},
   "outputs": [
    {
     "name": "stdout",
     "output_type": "stream",
     "text": [
      "13\n",
      "12\n"
     ]
    }
   ],
   "source": [
    "from math import ceil, floor\n",
    "\n",
    "# Redondea hacia arriba\n",
    "round_up = ceil(12.5)\n",
    "print(round_up)\n",
    "\n",
    "# Redondea hacia abajo\n",
    "round_down = floor(12.5)\n",
    "print(round_down)"
   ]
  },
  {
   "cell_type": "markdown",
   "metadata": {},
   "source": [
    "# Ejercicio1 - Utilizar operadores aritméticos "
   ]
  },
  {
   "cell_type": "markdown",
   "metadata": {},
   "source": [
    "Python proporciona operadores aritméticos comunes para que puedas realizar operaciones matemáticas en tu código. Estos incluyen las cuatro operaciones principales de suma, resta, multiplicación y división.\n",
    "\n",
    "Exploremos cómo podemos crear un programa que pueda calcular la distancia entre dos planetas. Comenzaremos usando dos distancias de planetas: Tierra (149.597.870 km) y Júpiter (778.547.200 km)."
   ]
  },
  {
   "cell_type": "code",
   "execution_count": 27,
   "metadata": {},
   "outputs": [
    {
     "name": "stdout",
     "output_type": "stream",
     "text": [
      "La distancia entre la tierra y Jupiter es de: 628949330 km\n",
      " La distancia entre tierra y Jupiter es de: 390577534 millas\n"
     ]
    }
   ],
   "source": [
    "# Crear variables para almacenar las dos distancias\n",
    "# ¡Asegúrate de quitar las comas!\n",
    "tierra = 149597870 # km\n",
    "jupiter = 778547200 # km\n",
    "\n",
    "milla = 0.621  # 1 milla = 0.621km\n",
    "\n",
    "# operacion que calcula la distancia entre planetas en Km\n",
    "distancia_entre_planetas = (abs(tierra - jupiter))\n",
    "print(f'La distancia entre la tierra y Jupiter es de: { distancia_entre_planetas } km')\n",
    "\n",
    "# operacion que calcula la distancia entre planetas en millas\n",
    "distancia_en_millas = round(distancia_entre_planetas * milla)\n",
    "print(f' La distancia entre tierra y Jupiter es de: { distancia_en_millas } millas')"
   ]
  },
  {
   "cell_type": "markdown",
   "metadata": {},
   "source": [
    "# Ejercicio 2: Convierte cadenas en números y usa valores absolutos"
   ]
  },
  {
   "cell_type": "markdown",
   "metadata": {},
   "source": [
    "**Crear una aplicación para trabajar con números y entrada de usuario** <br><br>\n",
    "Con frecuencia, deberás convertir los valores de cadena en números para realizar correctamente diferentes operaciones o determinar el valor absoluto de un número.\n",
    "<br><br>\n",
    "Para crear nuestra aplicación, queremos leer la distancia del sol para dos planetas, y luego mostrar la distancia entre los planetas. Haremos esto usando `input` para leer los valores, `int` para convertir a entero y luego `abs` para convertir el resultado en su valor absoluto.<br><br>\n",
    "**Lee los valores** <br>\n",
    "Usando `input`, agrega el código para leer la distancia del sol para cada planeta, considerando 2 planetas."
   ]
  },
  {
   "cell_type": "code",
   "execution_count": 29,
   "metadata": {},
   "outputs": [
    {
     "name": "stdout",
     "output_type": "stream",
     "text": [
      "254848.2626\n",
      "56.48878\n"
     ]
    }
   ],
   "source": [
    "# Almacenar las entradas del usuario\n",
    "first_planet = input('Introduzca la distancia del sol para el primer planeta : ')\n",
    "second_planet = input( 'Intoduzca la distancia del sol para el segundo planeta:  ')\n",
    "\n",
    "print(first_planet)\n",
    "print(second_planet)"
   ]
  },
  {
   "cell_type": "markdown",
   "metadata": {},
   "source": [
    "**Convertir a número**"
   ]
  },
  {
   "cell_type": "code",
   "execution_count": 39,
   "metadata": {},
   "outputs": [
    {
     "name": "stdout",
     "output_type": "stream",
     "text": [
      "La distancia entre los planetas es de: 31236300.0 km\n"
     ]
    }
   ],
   "source": [
    "# convertir numeros\n",
    "# Almacenar las entradas del usuario\n",
    "first_planet = input('Introduzca la distancia del sol para el primer planeta : ')\n",
    "second_planet = input( 'Intoduzca la distancia del sol para el segundo planeta:  ')\n",
    "\n",
    "first_planet = int(first_planet)\n",
    "second_planet = int(second_planet)\n",
    "\n",
    "# realizar calculo y convertir a valor absoluto\n",
    "distancia = abs(first_planet - second_planet) # La distancia en en km\n",
    "\n",
    "# Convertir de Km a Millas\n",
    "distancia_en_millas = distancia * 0.621\n",
    "\n",
    "print(f'La distancia entre los planetas es de: { distancia_en_millas } km')\n"
   ]
  },
  {
   "cell_type": "markdown",
   "metadata": {},
   "source": [
    "**Prueba tu aplicación**\n",
    "Para probar el proyecto, ejecuta tu notebook. En la parte superior de vscode surgirá un cuadro de diálogo para que proporciones las distancias. Puede utilizar los datos de la tabla siguiente:\n",
    "\n",
    "planeta: Mercurio <br>\n",
    "Distancia al sol: 57900000\n",
    "\n",
    "planeta: Venus <br>\n",
    "Distancia al sol: 108200000\n",
    "\n",
    "planeta: tierra <br>\n",
    "Distancia al sol: 149600000\n",
    "\n",
    "planeta: Marte <br>\n",
    "Distancia al sol: 227900000\n"
   ]
  }
 ],
 "metadata": {
  "interpreter": {
   "hash": "6cb7802b8a24d27d83146ff99a4950f6d20687e85d7335fb9006265914123dc9"
  },
  "kernelspec": {
   "display_name": "Python 3.8.4 32-bit",
   "language": "python",
   "name": "python3"
  },
  "language_info": {
   "codemirror_mode": {
    "name": "ipython",
    "version": 3
   },
   "file_extension": ".py",
   "mimetype": "text/x-python",
   "name": "python",
   "nbconvert_exporter": "python",
   "pygments_lexer": "ipython3",
   "version": "3.8.4"
  },
  "orig_nbformat": 4
 },
 "nbformat": 4,
 "nbformat_minor": 2
}
