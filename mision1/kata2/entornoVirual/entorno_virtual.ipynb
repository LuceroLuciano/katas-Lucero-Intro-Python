{
 "cells": [
  {
   "cell_type": "markdown",
   "metadata": {},
   "source": [
    "# Entorno virtual en Python\n",
    "\n",
    "Es que una aplicación funciona de forma aislada.\n",
    "\n",
    "Un entorno virtual es una copia autónoma de todo lo necesario para ejecutar el programa. Esto incluye el intérprete de Python y cualquier biblioteca que su programa necesite. Mediante el uso de un entorno virtual, puedes asegurarte de que tu programa tendrá acceso a las versiones y recursos correctos para ejecutarse correctamente."
   ]
  },
  {
   "cell_type": "markdown",
   "metadata": {},
   "source": [
    "**Crear un entrono virtual**\n",
    "\n",
    "Crea un entorno virtual mediante `venv`\n",
    "\n",
    "1._ Crear un archivo para el entorno virtual\n",
    "\n",
    "![Crea un archivo entrono virtual](../../images/virtualEnviroment_1.JPG)\n"
   ]
  },
  {
   "cell_type": "markdown",
   "metadata": {},
   "source": [
    "2.- Ejecutar en su terminal: `python3 -m venv env`  o bien `python -m venv env`\n",
    "\n",
    "![Crea entorno virtual](../../images/virtualEnviroment_2.JPG)"
   ]
  },
  {
   "cell_type": "markdown",
   "metadata": {},
   "source": [
    " Ahora tienes un directorio (entornoVirtual) `env` creado en tu terminal con archivos que se muestran en la imagen:\n",
    "\n",
    "![Activar entorno virtual](../../images/virtualEnviroment_3.JPG)\n",
    "\n"
   ]
  },
  {
   "cell_type": "markdown",
   "metadata": {},
   "source": [
    "Para activar un entrono virtual ejecuta uno de los siguientes comandos: \n",
    "\n",
    "`source env/bin/activate`<br>\n",
    "`# Windows`<br>\n",
    "`env\\bin\\activate`<br><br>\n",
    "\n",
    "o bien: <br>\n",
    "`env\\Scripts\\activate`<br><br>\n",
    "\n",
    "`# Linux, WSL or macOS`<br>\n",
    "`source env/bin/activate`<br>\n",
    "\n",
    "En mi caso funciono con el segundo comando: <br>\n",
    "`env\\Scripts\\activate`\n",
    "\n",
    "![archivo en e directorio env](../../images/virtualEnviroment_4.JPG)\n",
    "\n",
    "Ahora ves en tu terminal `(env)`. Eso significa que has activado tu entorno virtual y se ha aislado del resto de tu máquina.\n"
   ]
  },
  {
   "cell_type": "markdown",
   "metadata": {},
   "source": [
    "**Instalar una biblioteca**\n",
    "\n",
    "Ejecuta el comando `pip freeze` para ver las bibliotecas instaladas en tu entorno:\n",
    "![archivo en e directorio env](../../images/virtualEnviroment_5.JPG)\n"
   ]
  },
  {
   "cell_type": "markdown",
   "metadata": {},
   "source": [
    "No deberías obtener respuesta. A continuación, veamos cómo cambia la salida de `pip freeze` cuando se agrega una biblioteca (un paquete).\n",
    "\n",
    "Ejecuta el comando `pip install` para instalar una biblioteca:\n",
    "\n",
    "`pip install python-dateutil`\n",
    "\n",
    "![archivo en e directorio env](../../images/virtualEnviroment_6.JPG)\n",
    "\n",
    "Un gran mensaje de salida de texto dice que está instalando tu biblioteca, y debe terminar con la siguiente oración:\n",
    "\n",
    "`Successfully installed python-dateutil-2.8.2 six-1.16.0`"
   ]
  },
  {
   "cell_type": "markdown",
   "metadata": {},
   "source": [
    "Vuelve a ejecutar `pip freeze` para ver cómo ha cambiado tu lista de bibliotecas:\n",
    "\n",
    "![archivo en e directorio env](../../images/virtualEnviroment_7.JPG)"
   ]
  },
  {
   "cell_type": "markdown",
   "metadata": {},
   "source": [
    "**Desactivar entorno virtual**\n",
    "\n",
    "Ejecuta el comando `deactivate`:\n",
    "\n",
    "![archivo en e directorio env](../../images/virtualEnviroment_8.JPG)\n",
    "\n",
    "Observa cómo cambia el mensaje de tu terminal `(env)` a cómo se veía antes."
   ]
  },
  {
   "cell_type": "markdown",
   "metadata": {},
   "source": [
    "**Crear un archivo en el ambiente virtual**\n",
    "\n",
    "Te sugerimos que coloques tus archivos en el directorio srco algo similar. La estructura del proyecto podría verse así:\n",
    "\n",
    " _/env <br>\n",
    "  __/src <br>\n",
    "    ____program.py  \n",
    "\n",
    "\n",
    "![archivo en e directorio env](../../images/virtualEnviroment_9.JPG)"
   ]
  },
  {
   "cell_type": "markdown",
   "metadata": {},
   "source": [
    "**Usar un paquete instalado**\n",
    "\n",
    "Asegúrate de tener un directorio para tus archivos. Te sugerimos que llames al directorio (folder) `src` y agregues un archivo Python llamado `app.py`, en mi caso se llama `program.py`.\n",
    " Ahora agrega un poco de código para llamar al comando pipdate:\n",
    "\n",
    "![uso de paquete instalado](../../images/virtualEnviroment_10.JPG)"
   ]
  },
  {
   "cell_type": "markdown",
   "metadata": {},
   "source": [
    "Para ejecutar el `program.py` solo debemos posicionarnos en el directorio correcto y ejecutar en consola `python program.py`\n",
    "\n",
    "![Ejecutando programa](../../images/virtualEnviroment_11.JPG)"
   ]
  }
 ],
 "metadata": {
  "interpreter": {
   "hash": "6cb7802b8a24d27d83146ff99a4950f6d20687e85d7335fb9006265914123dc9"
  },
  "kernelspec": {
   "display_name": "Python 3.8.4 32-bit",
   "language": "python",
   "name": "python3"
  },
  "language_info": {
   "name": "python",
   "version": "3.8.4"
  },
  "orig_nbformat": 4
 },
 "nbformat": 4,
 "nbformat_minor": 2
}
